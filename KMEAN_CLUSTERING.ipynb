{
 "cells": [
  {
   "cell_type": "code",
   "execution_count": 10,
   "metadata": {},
   "outputs": [],
   "source": [
    "import numpy as np\n",
    "import pandas as pd\n",
    "import seaborn as sns\n",
    "from sklearn.cluster import KMeans\n"
   ]
  },
  {
   "cell_type": "code",
   "execution_count": 2,
   "metadata": {},
   "outputs": [
    {
     "data": {
      "text/html": [
       "<div>\n",
       "<style scoped>\n",
       "    .dataframe tbody tr th:only-of-type {\n",
       "        vertical-align: middle;\n",
       "    }\n",
       "\n",
       "    .dataframe tbody tr th {\n",
       "        vertical-align: top;\n",
       "    }\n",
       "\n",
       "    .dataframe thead th {\n",
       "        text-align: right;\n",
       "    }\n",
       "</style>\n",
       "<table border=\"1\" class=\"dataframe\">\n",
       "  <thead>\n",
       "    <tr style=\"text-align: right;\">\n",
       "      <th></th>\n",
       "      <th>Unnamed: 0</th>\n",
       "      <th>Sqft</th>\n",
       "      <th>Floor</th>\n",
       "      <th>TotalFloor</th>\n",
       "      <th>Bedroom</th>\n",
       "      <th>Living.Room</th>\n",
       "      <th>Bathroom</th>\n",
       "      <th>Price</th>\n",
       "    </tr>\n",
       "  </thead>\n",
       "  <tbody>\n",
       "    <tr>\n",
       "      <th>0</th>\n",
       "      <td>1</td>\n",
       "      <td>1177.698</td>\n",
       "      <td>2</td>\n",
       "      <td>7</td>\n",
       "      <td>2</td>\n",
       "      <td>2</td>\n",
       "      <td>2</td>\n",
       "      <td>62000</td>\n",
       "    </tr>\n",
       "    <tr>\n",
       "      <th>1</th>\n",
       "      <td>2</td>\n",
       "      <td>2134.800</td>\n",
       "      <td>5</td>\n",
       "      <td>7</td>\n",
       "      <td>4</td>\n",
       "      <td>2</td>\n",
       "      <td>2</td>\n",
       "      <td>78000</td>\n",
       "    </tr>\n",
       "    <tr>\n",
       "      <th>2</th>\n",
       "      <td>3</td>\n",
       "      <td>1138.560</td>\n",
       "      <td>5</td>\n",
       "      <td>7</td>\n",
       "      <td>2</td>\n",
       "      <td>2</td>\n",
       "      <td>1</td>\n",
       "      <td>58000</td>\n",
       "    </tr>\n",
       "    <tr>\n",
       "      <th>3</th>\n",
       "      <td>4</td>\n",
       "      <td>1458.780</td>\n",
       "      <td>2</td>\n",
       "      <td>7</td>\n",
       "      <td>3</td>\n",
       "      <td>2</td>\n",
       "      <td>2</td>\n",
       "      <td>45000</td>\n",
       "    </tr>\n",
       "    <tr>\n",
       "      <th>4</th>\n",
       "      <td>5</td>\n",
       "      <td>967.776</td>\n",
       "      <td>11</td>\n",
       "      <td>14</td>\n",
       "      <td>3</td>\n",
       "      <td>2</td>\n",
       "      <td>2</td>\n",
       "      <td>45000</td>\n",
       "    </tr>\n",
       "  </tbody>\n",
       "</table>\n",
       "</div>"
      ],
      "text/plain": [
       "   Unnamed: 0      Sqft  Floor  TotalFloor  Bedroom  Living.Room  Bathroom  \\\n",
       "0           1  1177.698      2           7        2            2         2   \n",
       "1           2  2134.800      5           7        4            2         2   \n",
       "2           3  1138.560      5           7        2            2         1   \n",
       "3           4  1458.780      2           7        3            2         2   \n",
       "4           5   967.776     11          14        3            2         2   \n",
       "\n",
       "   Price  \n",
       "0  62000  \n",
       "1  78000  \n",
       "2  58000  \n",
       "3  45000  \n",
       "4  45000  "
      ]
     },
     "execution_count": 2,
     "metadata": {},
     "output_type": "execute_result"
    }
   ],
   "source": [
    "data = pd.read_csv('house_rental_data.csv.txt')\n",
    "data.head()"
   ]
  },
  {
   "cell_type": "code",
   "execution_count": 3,
   "metadata": {},
   "outputs": [
    {
     "data": {
      "text/plain": [
       "Unnamed: 0     0\n",
       "Sqft           0\n",
       "Floor          0\n",
       "TotalFloor     0\n",
       "Bedroom        0\n",
       "Living.Room    0\n",
       "Bathroom       0\n",
       "Price          0\n",
       "dtype: int64"
      ]
     },
     "execution_count": 3,
     "metadata": {},
     "output_type": "execute_result"
    }
   ],
   "source": [
    "data.isnull().sum()"
   ]
  },
  {
   "cell_type": "code",
   "execution_count": 4,
   "metadata": {},
   "outputs": [
    {
     "name": "stdout",
     "output_type": "stream",
     "text": [
      "<class 'pandas.core.frame.DataFrame'>\n",
      "RangeIndex: 645 entries, 0 to 644\n",
      "Data columns (total 8 columns):\n",
      " #   Column       Non-Null Count  Dtype  \n",
      "---  ------       --------------  -----  \n",
      " 0   Unnamed: 0   645 non-null    int64  \n",
      " 1   Sqft         645 non-null    float64\n",
      " 2   Floor        645 non-null    int64  \n",
      " 3   TotalFloor   645 non-null    int64  \n",
      " 4   Bedroom      645 non-null    int64  \n",
      " 5   Living.Room  645 non-null    int64  \n",
      " 6   Bathroom     645 non-null    int64  \n",
      " 7   Price        645 non-null    int64  \n",
      "dtypes: float64(1), int64(7)\n",
      "memory usage: 40.4 KB\n"
     ]
    }
   ],
   "source": [
    "data.info()"
   ]
  },
  {
   "cell_type": "code",
   "execution_count": 5,
   "metadata": {},
   "outputs": [],
   "source": [
    "X = data.iloc[:,1:]"
   ]
  },
  {
   "cell_type": "code",
   "execution_count": 6,
   "metadata": {},
   "outputs": [
    {
     "data": {
      "text/plain": [
       "array([3, 0, 3, 1, 1, 4, 3, 3, 1, 3, 1, 1, 1, 3, 3, 0, 3, 1, 0, 1, 4, 0,\n",
       "       3, 0, 2, 0, 2, 4, 1, 1, 3, 0, 3, 3, 1, 3, 1, 3, 2, 1, 4, 3, 1, 3,\n",
       "       3, 3, 3, 0, 2, 1, 0, 3, 1, 1, 2, 0, 1, 1, 1, 1, 1, 1, 1, 3, 1, 1,\n",
       "       1, 1, 1, 3, 1, 1, 0, 1, 1, 0, 3, 1, 0, 1, 3, 1, 1, 3, 1, 1, 4, 3,\n",
       "       0, 3, 3, 3, 3, 0, 3, 3, 3, 0, 3, 3, 0, 3, 0, 4, 4, 0, 0, 1, 3, 0,\n",
       "       3, 3, 0, 3, 0, 3, 4, 1, 1, 1, 3, 3, 3, 0, 4, 3, 3, 0, 1, 1, 0, 3,\n",
       "       0, 1, 0, 3, 1, 0, 0, 0, 4, 3, 3, 1, 1, 1, 0, 2, 1, 3, 0, 0, 3, 3,\n",
       "       1, 1, 3, 3, 1, 1, 3, 1, 1, 2, 1, 0, 0, 0, 3, 1, 3, 0, 0, 4, 1, 0,\n",
       "       0, 1, 3, 1, 1, 1, 4, 1, 1, 1, 1, 1, 1, 3, 1, 1, 0, 3, 3, 0, 3, 1,\n",
       "       1, 1, 1, 3, 1, 1, 3, 3, 1, 1, 3, 3, 3, 1, 0, 1, 3, 1, 3, 4, 1, 0,\n",
       "       3, 3, 0, 1, 4, 1, 1, 1, 0, 3, 0, 0, 0, 0, 3, 1, 3, 3, 1, 3, 1, 3,\n",
       "       4, 3, 4, 3, 4, 3, 4, 1, 0, 3, 3, 3, 1, 1, 0, 1, 3, 3, 1, 1, 3, 1,\n",
       "       1, 1, 1, 1, 1, 3, 3, 0, 1, 1, 1, 1, 1, 0, 0, 1, 1, 3, 3, 1, 0, 3,\n",
       "       2, 0, 1, 0, 3, 1, 4, 1, 3, 3, 0, 0, 0, 2, 3, 3, 3, 0, 3, 1, 0, 3,\n",
       "       1, 1, 3, 1, 3, 1, 3, 3, 0, 0, 0, 3, 3, 1, 4, 3, 1, 3, 3, 2, 1, 3,\n",
       "       3, 0, 1, 4, 3, 1, 3, 1, 1, 3, 3, 1, 3, 3, 1, 1, 1, 4, 1, 1, 3, 1,\n",
       "       0, 3, 3, 0, 3, 3, 0, 0, 3, 3, 3, 1, 1, 1, 0, 3, 1, 1, 1, 1, 1, 3,\n",
       "       3, 1, 1, 0, 1, 3, 0, 3, 3, 1, 1, 3, 0, 1, 3, 1, 3, 4, 3, 1, 1, 0,\n",
       "       0, 1, 1, 1, 1, 0, 0, 1, 1, 1, 1, 1, 1, 1, 1, 1, 1, 3, 1, 1, 3, 4,\n",
       "       1, 1, 1, 1, 3, 0, 0, 0, 0, 2, 3, 1, 0, 0, 1, 1, 0, 2, 1, 1, 3, 1,\n",
       "       1, 3, 0, 4, 0, 4, 0, 1, 3, 1, 3, 1, 1, 1, 1, 3, 1, 3, 3, 3, 0, 3,\n",
       "       1, 0, 1, 1, 3, 4, 1, 2, 0, 0, 0, 3, 0, 1, 1, 3, 1, 3, 0, 0, 0, 0,\n",
       "       0, 1, 1, 1, 3, 1, 1, 4, 0, 3, 3, 1, 0, 3, 0, 3, 3, 4, 1, 1, 1, 1,\n",
       "       0, 0, 1, 1, 0, 3, 1, 3, 3, 1, 1, 3, 1, 1, 1, 1, 0, 1, 3, 1, 3, 3,\n",
       "       1, 4, 1, 1, 3, 3, 1, 3, 0, 3, 1, 3, 4, 1, 1, 3, 3, 1, 1, 3, 1, 0,\n",
       "       0, 3, 1, 1, 1, 4, 1, 1, 3, 1, 1, 1, 1, 1, 0, 0, 3, 3, 1, 1, 3, 1,\n",
       "       2, 1, 1, 1, 1, 1, 2, 1, 0, 1, 1, 1, 0, 4, 1, 1, 1, 3, 1, 3, 1, 1,\n",
       "       1, 1, 1, 3, 1, 3, 1, 3, 4, 1, 3, 1, 1, 1, 1, 1, 0, 3, 1, 1, 1, 1,\n",
       "       3, 1, 0, 1, 1, 2, 0, 0, 4, 3, 1, 0, 1, 1, 1, 1, 3, 0, 3, 3, 1, 3,\n",
       "       0, 4, 1, 1, 1, 3, 1])"
      ]
     },
     "execution_count": 6,
     "metadata": {},
     "output_type": "execute_result"
    }
   ],
   "source": [
    "kmean = KMeans(n_clusters = 5, init = 'k-means++', random_state = 1)\n",
    "kmean.fit_predict(X)"
   ]
  },
  {
   "cell_type": "code",
   "execution_count": 7,
   "metadata": {},
   "outputs": [
    {
     "name": "stdout",
     "output_type": "stream",
     "text": [
      "i= 1 wcss= 818168920887.3367\n",
      "i= 2 wcss= 280633054694.48474\n",
      "i= 3 wcss= 127250665826.54985\n",
      "i= 4 wcss= 80767226715.33643\n",
      "i= 5 wcss= 54475740578.55669\n",
      "i= 6 wcss= 36632378151.93903\n",
      "i= 7 wcss= 27456845173.33084\n",
      "i= 8 wcss= 22270593778.067863\n",
      "i= 9 wcss= 18371385406.458515\n",
      "i= 10 wcss= 14736466074.179863\n",
      "i= 11 wcss= 11763102312.449091\n",
      "i= 12 wcss= 9932363459.202938\n",
      "i= 13 wcss= 8460242761.235023\n",
      "i= 14 wcss= 6937357688.740618\n"
     ]
    }
   ],
   "source": [
    "wcss = []\n",
    "for i in range(1, 15):\n",
    "    k_means = KMeans(n_clusters = i, init = 'k-means++', random_state = 1)\n",
    "    k_means.fit_predict(X)\n",
    "    wcss.append(k_means.inertia_)\n",
    "    print(\"i=\", i, \"wcss=\", k_means.inertia_)"
   ]
  },
  {
   "cell_type": "code",
   "execution_count": 9,
   "metadata": {},
   "outputs": [
    {
     "data": {
      "image/png": "[encoded data removed]",
      "text/plain": [
       "<Figure size 432x288 with 1 Axes>"
      ]
     },
     "metadata": {
      "needs_background": "light"
     },
     "output_type": "display_data"
    }
   ],
   "source": [
    "import matplotlib.pyplot as plt\n",
    "\n",
    "plt.plot(range(1,15), wcss,'r--')\n",
    "plt.title('Elbow Method')\n",
    "plt.xlabel('Number Of Clusters')\n",
    "plt.ylabel('wcss score')\n",
    "plt.show()"
   ]
  },
  {
   "cell_type": "code",
   "execution_count": null,
   "metadata": {},
   "outputs": [],
   "source": []
  }
 ],
 "metadata": {
  "kernelspec": {
   "display_name": "Python 3",
   "language": "python",
   "name": "python3"
  },
  "language_info": {
   "codemirror_mode": {
    "name": "ipython",
    "version": 3
   },
   "file_extension": ".py",
   "mimetype": "text/x-python",
   "name": "python",
   "nbconvert_exporter": "python",
   "pygments_lexer": "ipython3",
   "version": "3.7.6"
  }
 },
 "nbformat": 4,
 "nbformat_minor": 4
}
